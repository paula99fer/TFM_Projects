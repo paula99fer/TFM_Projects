{
 "cells": [
  {
   "cell_type": "code",
   "execution_count": 3,
   "id": "7f98f709",
   "metadata": {},
   "outputs": [],
   "source": [
    "import pandas as pd\n",
    "import time\n",
    "import re\n",
    "import numpy as np\n",
    "import math"
   ]
  },
  {
   "cell_type": "code",
   "execution_count": 4,
   "id": "982fa91b",
   "metadata": {},
   "outputs": [
    {
     "name": "stderr",
     "output_type": "stream",
     "text": [
      "/home/paula/software/miniconda3/envs/runrnaseq/lib/python3.7/site-packages/IPython/core/interactiveshell.py:3257: DtypeWarning: Columns (40) have mixed types.Specify dtype option on import or set low_memory=False.\n",
      "  interactivity=interactivity, compiler=compiler, result=result)\n"
     ]
    }
   ],
   "source": [
    "#Input path\n",
    "path_tablajose = '/home/paula/projects/getting_tables_sra_v2/tables/DatabaseSamplesJOSE.csv'\n",
    "path_tablasra = '/home/paula/projects/getting_tables_sra_v2/tables/SraRunInfo.csv'\n",
    "path_tablaweb = '/home/paula/projects/getting_tables_sra_v2/tables/SRAinformation.tsv'\n",
    "path_tablaena = '/home/paula/projects/getting_tables_sra_v2/tables/definitivo.txt'\n",
    "path_infotable = '/home/paula/projects/getting_tables_sra_v2/tables/sra_result.csv'\n",
    "path_408 = '/home/paula/projects/getting_tables_sra_v2/tables_output/408exp_notin.xlsx'\n",
    "#Upload files\n",
    "dfjose = pd.read_csv(path_tablajose)\n",
    "dfsra = pd.read_csv(path_tablasra)\n",
    "dfena = pd.read_csv(path_tablaena, sep ='\\t')\n",
    "dfweb = pd.read_csv(path_tablaweb,sep='\\t')\n",
    "dfinfo = pd.read_csv(path_infotable)"
   ]
  },
  {
   "cell_type": "code",
   "execution_count": 5,
   "id": "695f9426",
   "metadata": {
    "scrolled": false
   },
   "outputs": [
    {
     "name": "stdout",
     "output_type": "stream",
     "text": [
      "28123\n",
      "94106\n",
      "87007\n"
     ]
    }
   ],
   "source": [
    "print(len(dfjose))\n",
    "print(len(dfsra))\n",
    "print(len(dfena))"
   ]
  },
  {
   "cell_type": "code",
   "execution_count": 6,
   "id": "0bed36eb",
   "metadata": {
    "collapsed": true
   },
   "outputs": [],
   "source": [
    "# Merge con ENA\n",
    "dfena.rename(columns = {'run_accession':'Run'}, inplace = True)\n",
    "dfsra =  pd.merge(dfsra, dfena, how='outer', on='Run')\n",
    "gsm_dic = {}\n",
    "\n",
    "for index, row in dfsra.iterrows():\n",
    "    exp = row['Experiment']\n",
    "    gsm = row['SampleName']\n",
    "    gsm_dic[gsm] = exp\n",
    "for index, row in dfsra.iterrows():\n",
    "    exp = row['experiment_accession']\n",
    "    gsm = row['run_alias']\n",
    "    gsm_dic[gsm] = exp\n",
    "#     if gsm in gsm_dic:\n",
    "#         gsm_dic[gsm].append(exp)\n",
    "#     else:\n",
    "#         gsm_dic[gsm] = exp\n",
    "\n",
    "LISTNOENCOTRADOS = []\n",
    "for index, row in dfjose.iterrows():\n",
    "    if 'GSM' in row.Experiment:\n",
    "        try:\n",
    "            dfjose['Experiment'] = dfjose['Experiment'].replace(row.Experiment, gsm_dic[row.Experiment])\n",
    "#             gsm_dic[row.Experiment]\n",
    "        except KeyError:\n",
    "            LISTNOENCOTRADOS.append(row.Experiment)\n",
    "            \n",
    "#Merge con Jose\n",
    "for index, row in dfsra.iterrows():\n",
    "    if row['experiment_accession']!=row['Experiment']:\n",
    "        if math.isnan(row['experiment_accession']):\n",
    "            dfsra['Experiment'] = dfsra['Experiment'].replace(row.Experiment, row.experiment_accession)\n",
    "        else:\n",
    "            print(\"CUIDADO! SE TE ESTA PASASNDO ALGO QUE NO ES NAN\")\n",
    "\n",
    "\n",
    "# dfsra =  pd.merge(dfsra, dfjose, how='outer', on='Experiment')"
   ]
  },
  {
   "cell_type": "code",
   "execution_count": 7,
   "id": "fc9cd10c",
   "metadata": {},
   "outputs": [
    {
     "data": {
      "text/plain": [
       "161"
      ]
     },
     "execution_count": 7,
     "metadata": {},
     "output_type": "execute_result"
    }
   ],
   "source": [
    "\n",
    "len(LISTNOENCOTRADOS)"
   ]
  },
  {
   "cell_type": "code",
   "execution_count": 9,
   "id": "4b516c0d",
   "metadata": {},
   "outputs": [
    {
     "name": "stdout",
     "output_type": "stream",
     "text": [
      "408\n"
     ]
    }
   ],
   "source": [
    "dfjose['Experiment'].equals(dfsra['Experiment'])\n",
    "\n",
    "diff_values = dfjose[~dfjose['Experiment'].isin(dfsra['Experiment'])]['Experiment'].tolist()\n",
    "print(len(diff_values))\n",
    "\n",
    "df408 = dfjose[dfjose['Experiment'].isin(diff_values)]\n",
    "\n",
    "df408 = pd.read_excel(path_408)"
   ]
  },
  {
   "cell_type": "code",
   "execution_count": 11,
   "id": "81ca88f8",
   "metadata": {},
   "outputs": [],
   "source": [
    "dfsraplus = pd.concat([dfsra,df408],axis=0)"
   ]
  },
  {
   "cell_type": "code",
   "execution_count": 25,
   "id": "e0cc6a8c",
   "metadata": {},
   "outputs": [],
   "source": [
    "#Merge con Web\n",
    "dfweb.rename(columns={'Unnamed: 0':'BioProject','0':'project_title','1':'project_description','2':'project_biblio'}, inplace = True)\n",
    "dfsra =  pd.merge(dfsra, dfweb, how='outer', on='BioProject')\n",
    "\n",
    "#Merge con Info\n",
    "dfinfo.rename(columns = {'Experiment Accession':'Experiment'}, inplace = True)\n",
    "dfsra =  pd.merge(dfsra, dfinfo, how='outer', on='Experiment')"
   ]
  },
  {
   "cell_type": "markdown",
   "id": "7da69f9c",
   "metadata": {},
   "source": [
    "# Pruebas"
   ]
  },
  {
   "cell_type": "code",
   "execution_count": 23,
   "id": "8e0d1d68",
   "metadata": {
    "collapsed": true
   },
   "outputs": [
    {
     "name": "stdout",
     "output_type": "stream",
     "text": [
      "Search successful.\n",
      "Search successful.\n",
      "Search successful.\n",
      "Search successful.\n",
      "Search successful.\n",
      "Search successful.\n",
      "Search successful.\n",
      "Search successful.\n",
      "Search successful.\n",
      "Search successful.\n",
      "Search successful.\n",
      "Search successful.\n",
      "Search successful.\n",
      "Search successful.\n",
      "Search successful.\n",
      "Search successful.\n",
      "Search successful.\n",
      "Search successful.\n",
      "Search successful.\n",
      "Search successful.\n",
      "Search successful.\n",
      "Search successful.\n",
      "Search successful.\n",
      "Search successful.\n",
      "Search successful.\n",
      "Search successful.\n",
      "Search successful.\n",
      "Search successful.\n",
      "Search successful.\n",
      "Search successful.\n",
      "Search successful.\n",
      "Search successful.\n",
      "Search successful.\n",
      "Search successful.\n",
      "Search successful.\n",
      "Search successful.\n",
      "Search successful.\n",
      "Search successful.\n",
      "Search successful.\n",
      "Search successful.\n",
      "Search successful.\n",
      "Search successful.\n",
      "Search successful.\n",
      "Search successful.\n",
      "Search successful.\n",
      "Search successful.\n",
      "Search successful.\n",
      "Search successful.\n",
      "Search successful.\n",
      "Search successful.\n",
      "Search successful.\n",
      "Search successful.\n",
      "Search successful.\n",
      "Search successful.\n",
      "Search successful.\n",
      "Search successful.\n",
      "Search successful.\n",
      "Search successful.\n",
      "Search successful.\n",
      "Search successful.\n",
      "Search successful.\n",
      "Search successful.\n",
      "Search successful.\n",
      "Search successful.\n",
      "Search successful.\n",
      "Search successful.\n",
      "Search successful.\n",
      "Search successful.\n",
      "Search successful.\n",
      "Search successful.\n",
      "Search successful.\n",
      "Search successful.\n",
      "Search successful.\n",
      "Search successful.\n",
      "Search successful.\n",
      "Search successful.\n",
      "Search successful.\n",
      "Search successful.\n",
      "Search successful.\n",
      "Search successful.\n"
     ]
    },
    {
     "ename": "TypeError",
     "evalue": "expected string or bytes-like object",
     "output_type": "error",
     "traceback": [
      "\u001b[1;31m---------------------------------------------------------------------------\u001b[0m",
      "\u001b[1;31mTypeError\u001b[0m                                 Traceback (most recent call last)",
      "\u001b[1;32m~\\AppData\\Local\\Temp\\ipykernel_13244\\4036496618.py\u001b[0m in \u001b[0;36m<module>\u001b[1;34m\u001b[0m\n\u001b[0;32m      1\u001b[0m \u001b[0mr\u001b[0m \u001b[1;33m=\u001b[0m \u001b[1;34m'GSM.*'\u001b[0m\u001b[1;33m\u001b[0m\u001b[1;33m\u001b[0m\u001b[0m\n\u001b[0;32m      2\u001b[0m \u001b[1;32mfor\u001b[0m \u001b[0mindex\u001b[0m\u001b[1;33m,\u001b[0m \u001b[0mrow\u001b[0m \u001b[1;32min\u001b[0m \u001b[0mdfenasra\u001b[0m\u001b[1;33m.\u001b[0m\u001b[0miterrows\u001b[0m\u001b[1;33m(\u001b[0m\u001b[1;33m)\u001b[0m\u001b[1;33m:\u001b[0m\u001b[1;33m\u001b[0m\u001b[1;33m\u001b[0m\u001b[0m\n\u001b[1;32m----> 3\u001b[1;33m     \u001b[0mre\u001b[0m\u001b[1;33m.\u001b[0m\u001b[0mmatch\u001b[0m\u001b[1;33m(\u001b[0m\u001b[0mr\u001b[0m\u001b[1;33m,\u001b[0m \u001b[0mrow\u001b[0m\u001b[1;33m.\u001b[0m\u001b[0msample_alias\u001b[0m\u001b[1;33m)\u001b[0m\u001b[1;33m\u001b[0m\u001b[1;33m\u001b[0m\u001b[0m\n\u001b[0m\u001b[0;32m      4\u001b[0m     \u001b[1;32mif\u001b[0m \u001b[0mr\u001b[0m\u001b[1;33m:\u001b[0m\u001b[1;33m\u001b[0m\u001b[1;33m\u001b[0m\u001b[0m\n\u001b[0;32m      5\u001b[0m         \u001b[0mprint\u001b[0m\u001b[1;33m(\u001b[0m\u001b[1;34m\"Search successful.\"\u001b[0m\u001b[1;33m)\u001b[0m\u001b[1;33m\u001b[0m\u001b[1;33m\u001b[0m\u001b[0m\n",
      "\u001b[1;32m~\\anaconda3\\lib\\re.py\u001b[0m in \u001b[0;36mmatch\u001b[1;34m(pattern, string, flags)\u001b[0m\n\u001b[0;32m    189\u001b[0m     \"\"\"Try to apply the pattern at the start of the string, returning\n\u001b[0;32m    190\u001b[0m     a Match object, or None if no match was found.\"\"\"\n\u001b[1;32m--> 191\u001b[1;33m     \u001b[1;32mreturn\u001b[0m \u001b[0m_compile\u001b[0m\u001b[1;33m(\u001b[0m\u001b[0mpattern\u001b[0m\u001b[1;33m,\u001b[0m \u001b[0mflags\u001b[0m\u001b[1;33m)\u001b[0m\u001b[1;33m.\u001b[0m\u001b[0mmatch\u001b[0m\u001b[1;33m(\u001b[0m\u001b[0mstring\u001b[0m\u001b[1;33m)\u001b[0m\u001b[1;33m\u001b[0m\u001b[1;33m\u001b[0m\u001b[0m\n\u001b[0m\u001b[0;32m    192\u001b[0m \u001b[1;33m\u001b[0m\u001b[0m\n\u001b[0;32m    193\u001b[0m \u001b[1;32mdef\u001b[0m \u001b[0mfullmatch\u001b[0m\u001b[1;33m(\u001b[0m\u001b[0mpattern\u001b[0m\u001b[1;33m,\u001b[0m \u001b[0mstring\u001b[0m\u001b[1;33m,\u001b[0m \u001b[0mflags\u001b[0m\u001b[1;33m=\u001b[0m\u001b[1;36m0\u001b[0m\u001b[1;33m)\u001b[0m\u001b[1;33m:\u001b[0m\u001b[1;33m\u001b[0m\u001b[1;33m\u001b[0m\u001b[0m\n",
      "\u001b[1;31mTypeError\u001b[0m: expected string or bytes-like object"
     ]
    }
   ],
   "source": [
    "# r = 'GSM.*'\n",
    "# for index, row in dfenasra.iterrows():\n",
    "#     re.match(r, row.sample_alias)\n",
    "#     if r:\n",
    "#         print(\"Search successful.\")\n",
    "#     else:\n",
    "#         print(\"Search unsuccessful.\")"
   ]
  },
  {
   "cell_type": "code",
   "execution_count": 46,
   "id": "90b02b2c",
   "metadata": {},
   "outputs": [
    {
     "data": {
      "text/html": [
       "<div>\n",
       "<style scoped>\n",
       "    .dataframe tbody tr th:only-of-type {\n",
       "        vertical-align: middle;\n",
       "    }\n",
       "\n",
       "    .dataframe tbody tr th {\n",
       "        vertical-align: top;\n",
       "    }\n",
       "\n",
       "    .dataframe thead th {\n",
       "        text-align: right;\n",
       "    }\n",
       "</style>\n",
       "<table border=\"1\" class=\"dataframe\">\n",
       "  <thead>\n",
       "    <tr style=\"text-align: right;\">\n",
       "      <th></th>\n",
       "      <th>Run</th>\n",
       "      <th>ReleaseDate</th>\n",
       "      <th>LoadDate</th>\n",
       "      <th>spots</th>\n",
       "      <th>bases</th>\n",
       "      <th>spots_with_mates</th>\n",
       "      <th>avgLength</th>\n",
       "      <th>size_MB</th>\n",
       "      <th>AssemblyName</th>\n",
       "      <th>download_path</th>\n",
       "      <th>...</th>\n",
       "      <th>sample_title</th>\n",
       "      <th>experiment_title</th>\n",
       "      <th>study_title</th>\n",
       "      <th>description</th>\n",
       "      <th>sample_description</th>\n",
       "      <th>fastq_md5</th>\n",
       "      <th>fastq_bytes</th>\n",
       "      <th>fastq_ftp</th>\n",
       "      <th>fastq_galaxy</th>\n",
       "      <th>fastq_aspera</th>\n",
       "    </tr>\n",
       "  </thead>\n",
       "  <tbody>\n",
       "  </tbody>\n",
       "</table>\n",
       "<p>0 rows × 80 columns</p>\n",
       "</div>"
      ],
      "text/plain": [
       "Empty DataFrame\n",
       "Columns: [Run, ReleaseDate, LoadDate, spots, bases, spots_with_mates, avgLength, size_MB, AssemblyName, download_path, Experiment, LibraryName, LibraryStrategy, LibrarySelection, LibrarySource, LibraryLayout, InsertSize, InsertDev, Platform, Model, SRAStudy, BioProject, Study_Pubmed_id, ProjectID, Sample, BioSample, SampleType, TaxID, ScientificName, SampleName, g1k_pop_code, source, g1k_analysis_group, Subject_ID, Sex, Disease, Tumor, Affection_Status, Analyte_Type, Histological_Type, Body_Site, CenterName, Submission, dbgap_study_accession, Consent, RunHash, ReadHash, accession, experiment_accession, sample_accession, secondary_sample_accession, study_accession, secondary_study_accession, parent_study, submission_accession, run_alias, experiment_alias, sample_alias, study_alias, library_layout, library_selection, library_source, library_strategy, library_name, instrument_model, instrument_platform, base_count, read_count, tax_id, scientific_name, sample_title, experiment_title, study_title, description, sample_description, fastq_md5, fastq_bytes, fastq_ftp, fastq_galaxy, fastq_aspera]\n",
       "Index: []\n",
       "\n",
       "[0 rows x 80 columns]"
      ]
     },
     "execution_count": 46,
     "metadata": {},
     "output_type": "execute_result"
    }
   ],
   "source": [
    "dfenasra.loc[dfenasra['run_alias'] =='GSM1835604']"
   ]
  },
  {
   "cell_type": "code",
   "execution_count": 31,
   "id": "a367d617",
   "metadata": {},
   "outputs": [
    {
     "data": {
      "text/html": [
       "<div>\n",
       "<style scoped>\n",
       "    .dataframe tbody tr th:only-of-type {\n",
       "        vertical-align: middle;\n",
       "    }\n",
       "\n",
       "    .dataframe tbody tr th {\n",
       "        vertical-align: top;\n",
       "    }\n",
       "\n",
       "    .dataframe thead th {\n",
       "        text-align: right;\n",
       "    }\n",
       "</style>\n",
       "<table border=\"1\" class=\"dataframe\">\n",
       "  <thead>\n",
       "    <tr style=\"text-align: right;\">\n",
       "      <th></th>\n",
       "      <th>Run</th>\n",
       "      <th>ReleaseDate</th>\n",
       "      <th>LoadDate</th>\n",
       "      <th>spots</th>\n",
       "      <th>bases</th>\n",
       "      <th>spots_with_mates</th>\n",
       "      <th>avgLength</th>\n",
       "      <th>size_MB</th>\n",
       "      <th>AssemblyName</th>\n",
       "      <th>download_path</th>\n",
       "      <th>...</th>\n",
       "      <th>Affection_Status</th>\n",
       "      <th>Analyte_Type</th>\n",
       "      <th>Histological_Type</th>\n",
       "      <th>Body_Site</th>\n",
       "      <th>CenterName</th>\n",
       "      <th>Submission</th>\n",
       "      <th>dbgap_study_accession</th>\n",
       "      <th>Consent</th>\n",
       "      <th>RunHash</th>\n",
       "      <th>ReadHash</th>\n",
       "    </tr>\n",
       "  </thead>\n",
       "  <tbody>\n",
       "  </tbody>\n",
       "</table>\n",
       "<p>0 rows × 47 columns</p>\n",
       "</div>"
      ],
      "text/plain": [
       "Empty DataFrame\n",
       "Columns: [Run, ReleaseDate, LoadDate, spots, bases, spots_with_mates, avgLength, size_MB, AssemblyName, download_path, Experiment, LibraryName, LibraryStrategy, LibrarySelection, LibrarySource, LibraryLayout, InsertSize, InsertDev, Platform, Model, SRAStudy, BioProject, Study_Pubmed_id, ProjectID, Sample, BioSample, SampleType, TaxID, ScientificName, SampleName, g1k_pop_code, source, g1k_analysis_group, Subject_ID, Sex, Disease, Tumor, Affection_Status, Analyte_Type, Histological_Type, Body_Site, CenterName, Submission, dbgap_study_accession, Consent, RunHash, ReadHash]\n",
       "Index: []\n",
       "\n",
       "[0 rows x 47 columns]"
      ]
     },
     "execution_count": 31,
     "metadata": {},
     "output_type": "execute_result"
    }
   ],
   "source": [
    "dfsra.loc[dfsra['Run']=='SRR013427']"
   ]
  },
  {
   "cell_type": "code",
   "execution_count": 50,
   "id": "25dbe845",
   "metadata": {},
   "outputs": [
    {
     "data": {
      "text/html": [
       "<div>\n",
       "<style scoped>\n",
       "    .dataframe tbody tr th:only-of-type {\n",
       "        vertical-align: middle;\n",
       "    }\n",
       "\n",
       "    .dataframe tbody tr th {\n",
       "        vertical-align: top;\n",
       "    }\n",
       "\n",
       "    .dataframe thead th {\n",
       "        text-align: right;\n",
       "    }\n",
       "</style>\n",
       "<table border=\"1\" class=\"dataframe\">\n",
       "  <thead>\n",
       "    <tr style=\"text-align: right;\">\n",
       "      <th></th>\n",
       "      <th>NameJose</th>\n",
       "      <th>Experiment</th>\n",
       "      <th>SampleName</th>\n",
       "      <th>Tissue</th>\n",
       "      <th>Ecotype</th>\n",
       "      <th>Genotype</th>\n",
       "      <th>Treatment</th>\n",
       "      <th>Project</th>\n",
       "      <th>TotalReads</th>\n",
       "      <th>UniqueMappedRatio</th>\n",
       "      <th>ReleaseDate</th>\n",
       "      <th>Unnamed: 11</th>\n",
       "      <th>Unnamed: 12</th>\n",
       "      <th>Unnamed: 13</th>\n",
       "      <th>Unnamed: 14</th>\n",
       "      <th>Unnamed: 15</th>\n",
       "      <th>Unnamed: 16</th>\n",
       "      <th>Unnamed: 17</th>\n",
       "      <th>Unnamed: 18</th>\n",
       "    </tr>\n",
       "  </thead>\n",
       "  <tbody>\n",
       "    <tr>\n",
       "      <th>16369</th>\n",
       "      <td>sample03755</td>\n",
       "      <td>GSM1818909</td>\n",
       "      <td>WT.0.1_dexamethasone</td>\n",
       "      <td>seedlings</td>\n",
       "      <td>Col-0</td>\n",
       "      <td>wild type</td>\n",
       "      <td>Mock</td>\n",
       "      <td>PRJNA258547</td>\n",
       "      <td>26432897</td>\n",
       "      <td>0.889</td>\n",
       "      <td>2015-12-16</td>\n",
       "      <td>development</td>\n",
       "      <td>Leaf axial polarity</td>\n",
       "      <td>mutant/Ox</td>\n",
       "      <td>TFs</td>\n",
       "      <td>NaN</td>\n",
       "      <td>NaN</td>\n",
       "      <td>NaN</td>\n",
       "      <td>NaN</td>\n",
       "    </tr>\n",
       "  </tbody>\n",
       "</table>\n",
       "</div>"
      ],
      "text/plain": [
       "          NameJose  Experiment            SampleName     Tissue Ecotype  \\\n",
       "16369  sample03755  GSM1818909  WT.0.1_dexamethasone  seedlings   Col-0   \n",
       "\n",
       "        Genotype Treatment      Project  TotalReads  UniqueMappedRatio  \\\n",
       "16369  wild type      Mock  PRJNA258547    26432897              0.889   \n",
       "\n",
       "      ReleaseDate  Unnamed: 11          Unnamed: 12 Unnamed: 13 Unnamed: 14  \\\n",
       "16369  2015-12-16  development  Leaf axial polarity   mutant/Ox         TFs   \n",
       "\n",
       "      Unnamed: 15 Unnamed: 16 Unnamed: 17 Unnamed: 18  \n",
       "16369         NaN         NaN         NaN         NaN  "
      ]
     },
     "execution_count": 50,
     "metadata": {},
     "output_type": "execute_result"
    }
   ],
   "source": [
    "dfjose.loc[dfjose['Experiment']=='GSM1818909']"
   ]
  },
  {
   "cell_type": "code",
   "execution_count": 126,
   "id": "f292f08c",
   "metadata": {},
   "outputs": [
    {
     "data": {
      "text/plain": [
       "'SRX217949'"
      ]
     },
     "execution_count": 126,
     "metadata": {},
     "output_type": "execute_result"
    }
   ],
   "source": [
    "gsm_dic.get('GSM1065347')"
   ]
  },
  {
   "cell_type": "code",
   "execution_count": null,
   "id": "0fc0a92f",
   "metadata": {},
   "outputs": [],
   "source": [
    "for index, row in dfjose.iterrows():\n",
    "    valor = row['Experiment']\n",
    "    resultado = dfsra.loc[dfsra['SampleName'] == valor, 'Experiment']\n",
    "    if not resultado.empty:\n",
    "        print(resultado.iloc[0])\n",
    "        time.sleep(1)\n",
    "    "
   ]
  },
  {
   "cell_type": "code",
   "execution_count": 58,
   "id": "0c8f3262",
   "metadata": {
    "scrolled": true
   },
   "outputs": [
    {
     "data": {
      "text/plain": [
       "'SRX217949'"
      ]
     },
     "execution_count": 58,
     "metadata": {},
     "output_type": "execute_result"
    }
   ],
   "source": [
    "dfsra.loc[dfsra['SampleName'] == 'GSM1065347', 'Experiment'].iloc[0]"
   ]
  },
  {
   "cell_type": "code",
   "execution_count": 90,
   "id": "d70de48d",
   "metadata": {},
   "outputs": [
    {
     "name": "stdout",
     "output_type": "stream",
     "text": [
      "ERX1104197\n"
     ]
    },
    {
     "ename": "IndexError",
     "evalue": "single positional indexer is out-of-bounds",
     "output_type": "error",
     "traceback": [
      "\u001b[1;31m---------------------------------------------------------------------------\u001b[0m",
      "\u001b[1;31mIndexError\u001b[0m                                Traceback (most recent call last)",
      "\u001b[1;32m~\\AppData\\Local\\Temp\\ipykernel_18108\\2454742473.py\u001b[0m in \u001b[0;36m<module>\u001b[1;34m\u001b[0m\n\u001b[0;32m      2\u001b[0m     \u001b[0mvalor\u001b[0m \u001b[1;33m=\u001b[0m \u001b[0mrow\u001b[0m\u001b[1;33m[\u001b[0m\u001b[1;34m'Experiment'\u001b[0m\u001b[1;33m]\u001b[0m\u001b[1;33m\u001b[0m\u001b[1;33m\u001b[0m\u001b[0m\n\u001b[0;32m      3\u001b[0m     \u001b[0mprint\u001b[0m\u001b[1;33m(\u001b[0m\u001b[0mvalor\u001b[0m\u001b[1;33m)\u001b[0m\u001b[1;33m\u001b[0m\u001b[1;33m\u001b[0m\u001b[0m\n\u001b[1;32m----> 4\u001b[1;33m     \u001b[0mdfsra\u001b[0m\u001b[1;33m.\u001b[0m\u001b[0mloc\u001b[0m\u001b[1;33m[\u001b[0m\u001b[0mdfjose\u001b[0m\u001b[1;33m[\u001b[0m\u001b[1;34m'Experiment'\u001b[0m\u001b[1;33m]\u001b[0m\u001b[1;33m[\u001b[0m\u001b[0mindex\u001b[0m\u001b[1;33m]\u001b[0m \u001b[1;33m==\u001b[0m \u001b[0mdfsra\u001b[0m\u001b[1;33m[\u001b[0m\u001b[1;34m'SampleName'\u001b[0m\u001b[1;33m]\u001b[0m\u001b[1;33m]\u001b[0m\u001b[1;33m[\u001b[0m\u001b[1;34m'Experiment'\u001b[0m\u001b[1;33m]\u001b[0m\u001b[1;33m.\u001b[0m\u001b[0miloc\u001b[0m\u001b[1;33m[\u001b[0m\u001b[1;36m0\u001b[0m\u001b[1;33m]\u001b[0m\u001b[1;33m\u001b[0m\u001b[1;33m\u001b[0m\u001b[0m\n\u001b[0m\u001b[0;32m      5\u001b[0m \u001b[1;31m#     print(result)\u001b[0m\u001b[1;33m\u001b[0m\u001b[1;33m\u001b[0m\u001b[0m\n\u001b[0;32m      6\u001b[0m     \u001b[0mtime\u001b[0m\u001b[1;33m.\u001b[0m\u001b[0msleep\u001b[0m\u001b[1;33m(\u001b[0m\u001b[1;36m1\u001b[0m\u001b[1;33m)\u001b[0m\u001b[1;33m\u001b[0m\u001b[1;33m\u001b[0m\u001b[0m\n",
      "\u001b[1;32m~\\anaconda3\\lib\\site-packages\\pandas\\core\\indexing.py\u001b[0m in \u001b[0;36m__getitem__\u001b[1;34m(self, key)\u001b[0m\n\u001b[0;32m    965\u001b[0m \u001b[1;33m\u001b[0m\u001b[0m\n\u001b[0;32m    966\u001b[0m             \u001b[0mmaybe_callable\u001b[0m \u001b[1;33m=\u001b[0m \u001b[0mcom\u001b[0m\u001b[1;33m.\u001b[0m\u001b[0mapply_if_callable\u001b[0m\u001b[1;33m(\u001b[0m\u001b[0mkey\u001b[0m\u001b[1;33m,\u001b[0m \u001b[0mself\u001b[0m\u001b[1;33m.\u001b[0m\u001b[0mobj\u001b[0m\u001b[1;33m)\u001b[0m\u001b[1;33m\u001b[0m\u001b[1;33m\u001b[0m\u001b[0m\n\u001b[1;32m--> 967\u001b[1;33m             \u001b[1;32mreturn\u001b[0m \u001b[0mself\u001b[0m\u001b[1;33m.\u001b[0m\u001b[0m_getitem_axis\u001b[0m\u001b[1;33m(\u001b[0m\u001b[0mmaybe_callable\u001b[0m\u001b[1;33m,\u001b[0m \u001b[0maxis\u001b[0m\u001b[1;33m=\u001b[0m\u001b[0maxis\u001b[0m\u001b[1;33m)\u001b[0m\u001b[1;33m\u001b[0m\u001b[1;33m\u001b[0m\u001b[0m\n\u001b[0m\u001b[0;32m    968\u001b[0m \u001b[1;33m\u001b[0m\u001b[0m\n\u001b[0;32m    969\u001b[0m     \u001b[1;32mdef\u001b[0m \u001b[0m_is_scalar_access\u001b[0m\u001b[1;33m(\u001b[0m\u001b[0mself\u001b[0m\u001b[1;33m,\u001b[0m \u001b[0mkey\u001b[0m\u001b[1;33m:\u001b[0m \u001b[0mtuple\u001b[0m\u001b[1;33m)\u001b[0m\u001b[1;33m:\u001b[0m\u001b[1;33m\u001b[0m\u001b[1;33m\u001b[0m\u001b[0m\n",
      "\u001b[1;32m~\\anaconda3\\lib\\site-packages\\pandas\\core\\indexing.py\u001b[0m in \u001b[0;36m_getitem_axis\u001b[1;34m(self, key, axis)\u001b[0m\n\u001b[0;32m   1521\u001b[0m \u001b[1;33m\u001b[0m\u001b[0m\n\u001b[0;32m   1522\u001b[0m             \u001b[1;31m# validate the location\u001b[0m\u001b[1;33m\u001b[0m\u001b[1;33m\u001b[0m\u001b[0m\n\u001b[1;32m-> 1523\u001b[1;33m             \u001b[0mself\u001b[0m\u001b[1;33m.\u001b[0m\u001b[0m_validate_integer\u001b[0m\u001b[1;33m(\u001b[0m\u001b[0mkey\u001b[0m\u001b[1;33m,\u001b[0m \u001b[0maxis\u001b[0m\u001b[1;33m)\u001b[0m\u001b[1;33m\u001b[0m\u001b[1;33m\u001b[0m\u001b[0m\n\u001b[0m\u001b[0;32m   1524\u001b[0m \u001b[1;33m\u001b[0m\u001b[0m\n\u001b[0;32m   1525\u001b[0m             \u001b[1;32mreturn\u001b[0m \u001b[0mself\u001b[0m\u001b[1;33m.\u001b[0m\u001b[0mobj\u001b[0m\u001b[1;33m.\u001b[0m\u001b[0m_ixs\u001b[0m\u001b[1;33m(\u001b[0m\u001b[0mkey\u001b[0m\u001b[1;33m,\u001b[0m \u001b[0maxis\u001b[0m\u001b[1;33m=\u001b[0m\u001b[0maxis\u001b[0m\u001b[1;33m)\u001b[0m\u001b[1;33m\u001b[0m\u001b[1;33m\u001b[0m\u001b[0m\n",
      "\u001b[1;32m~\\anaconda3\\lib\\site-packages\\pandas\\core\\indexing.py\u001b[0m in \u001b[0;36m_validate_integer\u001b[1;34m(self, key, axis)\u001b[0m\n\u001b[0;32m   1453\u001b[0m         \u001b[0mlen_axis\u001b[0m \u001b[1;33m=\u001b[0m \u001b[0mlen\u001b[0m\u001b[1;33m(\u001b[0m\u001b[0mself\u001b[0m\u001b[1;33m.\u001b[0m\u001b[0mobj\u001b[0m\u001b[1;33m.\u001b[0m\u001b[0m_get_axis\u001b[0m\u001b[1;33m(\u001b[0m\u001b[0maxis\u001b[0m\u001b[1;33m)\u001b[0m\u001b[1;33m)\u001b[0m\u001b[1;33m\u001b[0m\u001b[1;33m\u001b[0m\u001b[0m\n\u001b[0;32m   1454\u001b[0m         \u001b[1;32mif\u001b[0m \u001b[0mkey\u001b[0m \u001b[1;33m>=\u001b[0m \u001b[0mlen_axis\u001b[0m \u001b[1;32mor\u001b[0m \u001b[0mkey\u001b[0m \u001b[1;33m<\u001b[0m \u001b[1;33m-\u001b[0m\u001b[0mlen_axis\u001b[0m\u001b[1;33m:\u001b[0m\u001b[1;33m\u001b[0m\u001b[1;33m\u001b[0m\u001b[0m\n\u001b[1;32m-> 1455\u001b[1;33m             \u001b[1;32mraise\u001b[0m \u001b[0mIndexError\u001b[0m\u001b[1;33m(\u001b[0m\u001b[1;34m\"single positional indexer is out-of-bounds\"\u001b[0m\u001b[1;33m)\u001b[0m\u001b[1;33m\u001b[0m\u001b[1;33m\u001b[0m\u001b[0m\n\u001b[0m\u001b[0;32m   1456\u001b[0m \u001b[1;33m\u001b[0m\u001b[0m\n\u001b[0;32m   1457\u001b[0m     \u001b[1;31m# -------------------------------------------------------------------\u001b[0m\u001b[1;33m\u001b[0m\u001b[1;33m\u001b[0m\u001b[0m\n",
      "\u001b[1;31mIndexError\u001b[0m: single positional indexer is out-of-bounds"
     ]
    }
   ],
   "source": [
    "for index, row in dfjose.iterrows():\n",
    "    valor = row['Experiment']\n",
    "    print(valor)\n",
    "    dfsra.loc[dfjose['Experiment'][index] == dfsra['SampleName']]['Experiment'].iloc[0]\n",
    "#     print(result)\n",
    "    time.sleep(1)"
   ]
  },
  {
   "cell_type": "code",
   "execution_count": 87,
   "id": "34b18f1b",
   "metadata": {},
   "outputs": [
    {
     "data": {
      "text/plain": [
       "'SRX217949'"
      ]
     },
     "execution_count": 87,
     "metadata": {},
     "output_type": "execute_result"
    }
   ],
   "source": [
    "dfjose['Experiment'][345]\n",
    "dfsra.loc[dfjose['Experiment'][345] == dfsra['SampleName']]['Experiment'].iloc[0]"
   ]
  }
 ],
 "metadata": {
  "kernelspec": {
   "display_name": "mprnaseq",
   "language": "python",
   "name": "python3"
  },
  "language_info": {
   "codemirror_mode": {
    "name": "ipython",
    "version": 3
   },
   "file_extension": ".py",
   "mimetype": "text/x-python",
   "name": "python",
   "nbconvert_exporter": "python",
   "pygments_lexer": "ipython3",
   "version": "3.7.12"
  },
  "vscode": {
   "interpreter": {
    "hash": "dc39c85560ff572bf087bef01ce41b962deced2bf96673ed1817f6517dedf595"
   }
  }
 },
 "nbformat": 4,
 "nbformat_minor": 5
}
