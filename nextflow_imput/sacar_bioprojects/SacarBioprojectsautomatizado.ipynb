{
 "cells": [
  {
   "cell_type": "code",
   "execution_count": 5,
   "id": "354b25ad",
   "metadata": {},
   "outputs": [],
   "source": [
    "import pandas as pd\n",
    "\n",
    "path = '/home/paula/projects/getting_tables_sra_v2/tables/definitivo.txt'\n",
    "ENA = pd.read_csv(path, sep ='\\t')"
   ]
  },
  {
   "cell_type": "code",
   "execution_count": 7,
   "id": "50f5923e",
   "metadata": {},
   "outputs": [],
   "source": [
    "groupbiop = ENA.groupby('study_accession')\n",
    "\n",
    "for name, group_df in groupbiop:\n",
    "    if len(group_df)<80:\n",
    "        group_df.to_csv(f\"/home/paula/projects/nextflow_imput/patata/menos60/{name}.csv\",sep='\\t',index=False,header=False)\n",
    "    elif len(group_df)>=80:\n",
    "        group_df.to_csv(f\"/home/paula/projects/nextflow_imput/patata/mas60/{name}.csv\",sep='\\t',index=False,header=False)"
   ]
  },
  {
   "cell_type": "code",
   "execution_count": 63,
   "id": "5c2f3e97",
   "metadata": {},
   "outputs": [],
   "source": [
    "def sacarbioprojects(SRA,filter_column,filter_name,ENA):\n",
    "        \n",
    "    SRAruns = SRA.loc[SRA[f'{filter_column}'] == f'{filter_name}']['Run'].tolist()\n",
    "    print(len(SRAruns))\n",
    "\n",
    "    ENAruns = ENA[ENA[\"accession\"].str.contains(\"accession\") == False]\n",
    "    \n",
    "    ENAabiotics = ENAruns[ENAruns['run_accession'].isin(SRAruns)]\n",
    "    print(len(ENAabiotics))\n",
    "            \n",
    "    ENAruns = ENAabiotics['run_accession'].tolist()\n",
    "    \n",
    "    test = list(set(SRAruns) - set(ENAruns))\n",
    "    print(test)\n",
    "    df = SRA[SRA['Run'].isin(test)]\n",
    "    print(df['Project'])\n",
    "    \n",
    "    groupbiop = ENAabiotics.groupby('study_accession')\n",
    "\n",
    "#     for name, group_df in groupbiop:\n",
    "#         if len(group_df)<80:\n",
    "#             group_df.to_csv(f\"abiotics_jose/menos80/{name}.csv\",sep='\\t',index=False,header=False)\n",
    "#         elif len(group_df)>=80:\n",
    "#             group_df.to_csv(f\"abiotics_jose/mas80/{name}.csv\",sep='\\t',index=False,header=False)"
   ]
  },
  {
   "cell_type": "code",
   "execution_count": 64,
   "id": "9fa93f50",
   "metadata": {
    "scrolled": true
   },
   "outputs": [
    {
     "name": "stdout",
     "output_type": "stream",
     "text": [
      "6055\n",
      "6009\n",
      "['SRR019186', 'SRR545204', 'SRR545950', 'SRR019035', 'SRR019211', 'SRR545219', 'SRR019209', 'SRR545214', 'SRR545212', 'SRR545208', 'SRR019182', 'SRR545954', 'SRR545217', 'SRR545206', 'SRR019212', 'SRR018347', 'SRR545218', 'SRR545952', 'SRR019213', 'SRR545948', 'SRR545220', 'SRR019210', 'SRR019185', 'SRR019179', 'SRR545209', 'SRR019184', 'SRR019208', 'SRR545953', 'SRR019206', 'SRR018346', 'SRR019207', 'SRR545939', 'SRR545949', 'SRR019187', 'SRR019181', 'SRR019205', 'SRR545205', 'SRR545216', 'SRR545211', 'SRR545207', 'SRR545215', 'SRR545213', 'SRR019180', 'SRR545203', 'SRR019183', 'SRR545210']\n",
      "369        SRP000935\n",
      "370        SRP000935\n",
      "371        SRP000935\n",
      "372        SRP000935\n",
      "373        SRP000935\n",
      "374        SRP000935\n",
      "375        SRP000935\n",
      "376        SRP000935\n",
      "377        SRP000935\n",
      "378        SRP000935\n",
      "379        SRP000935\n",
      "380        SRP000935\n",
      "381        SRP000935\n",
      "382        SRP000935\n",
      "383        SRP000935\n",
      "384        SRP000935\n",
      "385        SRP000935\n",
      "386        SRP000935\n",
      "387        SRP000935\n",
      "388        SRP000935\n",
      "389        SRP000935\n",
      "390        SRP000935\n",
      "660        SRP000935\n",
      "661        SRP000935\n",
      "662        SRP000935\n",
      "663        SRP000935\n",
      "664        SRP000935\n",
      "665        SRP000935\n",
      "15745    PRJNA173214\n",
      "15746    PRJNA173214\n",
      "15747    PRJNA173214\n",
      "15748    PRJNA173214\n",
      "15749    PRJNA173214\n",
      "15750    PRJNA173214\n",
      "15751    PRJNA173214\n",
      "15752    PRJNA173214\n",
      "15753    PRJNA173214\n",
      "15754    PRJNA173214\n",
      "15755    PRJNA173214\n",
      "15756    PRJNA173214\n",
      "15757    PRJNA173214\n",
      "15758    PRJNA173214\n",
      "15759    PRJNA173214\n",
      "15760    PRJNA173214\n",
      "15761    PRJNA173214\n",
      "15762    PRJNA173214\n",
      "Name: Project, dtype: object\n"
     ]
    }
   ],
   "source": [
    "sacarbioprojects(SRA,'Jose_1','abiotic',ENA)"
   ]
  }
 ],
 "metadata": {
  "kernelspec": {
   "display_name": "Python 3 (ipykernel)",
   "language": "python",
   "name": "python3"
  },
  "language_info": {
   "codemirror_mode": {
    "name": "ipython",
    "version": 3
   },
   "file_extension": ".py",
   "mimetype": "text/x-python",
   "name": "python",
   "nbconvert_exporter": "python",
   "pygments_lexer": "ipython3",
   "version": "3.7.12"
  }
 },
 "nbformat": 4,
 "nbformat_minor": 5
}
