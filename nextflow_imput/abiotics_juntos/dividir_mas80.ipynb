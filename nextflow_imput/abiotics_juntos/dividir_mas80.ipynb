{
 "cells": [
  {
   "cell_type": "code",
   "execution_count": 1,
   "id": "34279ef8",
   "metadata": {},
   "outputs": [],
   "source": [
    "import numpy as np\n",
    "import pandas as pd\n",
    "import os\n",
    "import csv"
   ]
  },
  {
   "cell_type": "code",
   "execution_count": 2,
   "id": "2ca5df02",
   "metadata": {},
   "outputs": [],
   "source": [
    "#Path para coger los PRJ\n",
    "path_PRJ = '/home/paula/projects/nextflow_imput/abiotics_juntos/mas80/'\n",
    "output_path = '/home/paula/projects/nextflow_imput/abiotics_juntos/mas80_divididos/'\n",
    "\n",
    "archivos = os.listdir(path_PRJ)\n",
    "\n",
    "dfs = []\n",
    "\n",
    "# Loop para leer cada archivo y guardar el nombre en la lista\n",
    "for filename in archivos:\n",
    "    df = pd.read_csv(f'{path_PRJ}{filename}', header=None, sep='\\t')\n",
    "    filas_por_df = 4\n",
    "    # Dividir el DataFrame en varios DataFrames con el número de filas deseado\n",
    "    for num in range(0, len(df), filas_por_df):\n",
    "        eachdf = df.iloc[num:num+filas_por_df]\n",
    "        # dfs.append(df.iloc[num:num+filas_por_df])\n",
    "        eachdf.to_csv(f'{output_path}{filename.rstrip(\".csv\")}_{num}.csv', sep='\\t', header=None, index=None)"
   ]
  }
 ],
 "metadata": {
  "kernelspec": {
   "display_name": "Python 3 (ipykernel)",
   "language": "python",
   "name": "python3"
  },
  "language_info": {
   "codemirror_mode": {
    "name": "ipython",
    "version": 3
   },
   "file_extension": ".py",
   "mimetype": "text/x-python",
   "name": "python",
   "nbconvert_exporter": "python",
   "pygments_lexer": "ipython3",
   "version": "3.7.12"
  }
 },
 "nbformat": 4,
 "nbformat_minor": 5
}
