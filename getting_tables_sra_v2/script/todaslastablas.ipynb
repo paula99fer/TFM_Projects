{
 "cells": [
  {
   "cell_type": "code",
   "execution_count": 1,
   "id": "7f98f709",
   "metadata": {},
   "outputs": [],
   "source": [
    "import pandas as pd\n",
    "import time\n",
    "import re\n",
    "import numpy as np\n",
    "import math"
   ]
  },
  {
   "attachments": {},
   "cell_type": "markdown",
   "id": "6d34e8aa",
   "metadata": {},
   "source": [
    "original query sra:\n",
    "((\"Arabidopsis thaliana\"[Organism] OR (\"Arabidopsis thaliana\"[Organism] OR (\"Arabidopsis thaliana\"[Organism] OR Arabidopsis thaliana[All Fields]))) AND (\"strategy rna seq\"[Properties] OR \"strategy other\"[Properties])) AND \"Arabidopsis thaliana\"[Organism]"
   ]
  },
  {
   "cell_type": "code",
   "execution_count": 2,
   "id": "982fa91b",
   "metadata": {},
   "outputs": [
    {
     "name": "stderr",
     "output_type": "stream",
     "text": [
      "/home/joaquin/software/miniconda/envs/mprnaseq/lib/python3.7/site-packages/IPython/core/interactiveshell.py:3257: DtypeWarning: Columns (40) have mixed types.Specify dtype option on import or set low_memory=False.\n",
      "  interactivity=interactivity, compiler=compiler, result=result)\n"
     ]
    }
   ],
   "source": [
    "#Input path\n",
    "path_tablajose = '/home/joaquin/projects/transcriptomeDatabase/getting_tables_sra_v2/tables/DatabaseSamplesJOSE.csv'\n",
    "path_tablasra = '/home/joaquin/projects/transcriptomeDatabase/getting_tables_sra_v2/tables/SraRunInfo.csv'\n",
    "path_tablaweb = '/home/joaquin/projects/transcriptomeDatabase/getting_tables_sra_v2/tables/SRAinformation.tsv'\n",
    "path_tablaena = '/home/joaquin/projects/transcriptomeDatabase/getting_tables_sra_v2/tables/definitivo.txt'\n",
    "path_infotable = '/home/joaquin/projects/transcriptomeDatabase/getting_tables_sra_v2/tables/sra_result.csv'\n",
    "#Upload files\n",
    "dfjose = pd.read_csv(path_tablajose)\n",
    "dfsra = pd.read_csv(path_tablasra)\n",
    "dfena = pd.read_csv(path_tablaena, sep ='\\t')\n",
    "dfweb = pd.read_csv(path_tablaweb,sep='\\t')\n",
    "dfinfo = pd.read_csv(path_infotable)"
   ]
  },
  {
   "cell_type": "code",
   "execution_count": 3,
   "id": "15befbcd",
   "metadata": {},
   "outputs": [],
   "source": [
    "\n",
    "\n",
    "dfinfo.rename(columns={\"Experiment Accession\": \"Experiment\"},inplace = True)\n",
    "# TODO REVISAR ESTA QUERY A SRA\n",
    "dfsra_merge_dfinfo =  pd.merge(dfsra, dfinfo, how='outer', on='Experiment')\n",
    "\n",
    "# TODO REVISAR ESTA QUERY A SRA\n",
    "\n",
    "dfena.rename(columns = {'run_accession':'Run'}, inplace = True)\n",
    "dfena_nodup = dfena.drop_duplicates()\n",
    "dfsra_dfinfo_merge_dfena_nodupl =  pd.merge(dfsra_merge_dfinfo, dfena_nodup, how='outer', on='Run')\n",
    "\n",
    "# estas muestras no se van a tener en cuenta por nuestra query porque estan mal clasificadas\n",
    "# dfsra_dfinfo_merge_dfena_nodupl.loc[preu['ReleaseDate'].isnull()]['study_accession'].unique()\n",
    "# principalmente, no tienen bien puesto el organism o strategy en la base de dato SRA\n"
   ]
  },
  {
   "cell_type": "code",
   "execution_count": 4,
   "id": "737defe0",
   "metadata": {},
   "outputs": [],
   "source": [
    "import re\n",
    "import time\n",
    "gsm_dic = {}\n",
    "\n",
    "\n",
    "for index, row in dfsra_dfinfo_merge_dfena_nodupl.iterrows():\n",
    "    exp = row['Experiment']\n",
    "    expac = row['experiment_accession']\n",
    "    putativeGSMs = [str(row['run_alias']),str(row['sample_alias']),str(row['SampleName']),str(row['Library Name'])]\n",
    "    if 'GSM' in '_'.join(putativeGSMs):\n",
    "        gsmadd = False\n",
    "        for i in putativeGSMs:\n",
    "            if re.match(r'GSM\\d+$',i):\n",
    "                gsmadd = i\n",
    "                # print(expac,exp,putativeGSMs,gsmadd)\n",
    "                break\n",
    "        if not gsmadd:\n",
    "            for i in putativeGSMs:\n",
    "                if 'GSM' in i:\n",
    "                    gsmadd = i.split('_')[0]\n",
    "                    # print(expac,exp,putativeGSMs,gsmadd)\n",
    "                    break\n",
    "\n",
    "        if str(exp) != 'nan' and gsmadd:\n",
    "            gsm_dic[gsmadd] = exp\n",
    "        else:\n",
    "            if str(expac) != 'nan' and gsmadd:\n",
    "                gsm_dic[gsmadd] = expac\n",
    "            else:\n",
    "                print(expac,exp,putativeGSMs, 'NOTPARAMETRI')\n",
    "\n",
    "\n",
    "\n",
    "LISTNOENCOTRADOS = []\n",
    "for index, row in dfjose.iterrows():\n",
    "    if 'GSM' in row.Experiment:\n",
    "        try:\n",
    "            dfjose['Experiment'] = dfjose['Experiment'].replace(row.Experiment, gsm_dic[row.Experiment])\n",
    "#             gsm_dic[row.Experiment]\n",
    "        except KeyError:\n",
    "            LISTNOENCOTRADOS.append(row.Experiment)\n",
    "\n"
   ]
  },
  {
   "cell_type": "code",
   "execution_count": 6,
   "id": "d3f49fb4",
   "metadata": {},
   "outputs": [],
   "source": [
    "counter = 0\n",
    "for index, row in dfsra_dfinfo_merge_dfena_nodupl.iterrows():\n",
    "    if row['experiment_accession']!=row['Experiment']:\n",
    "        if str(row['experiment_accession']) != 'nan':\n",
    "            if re.match(r'SRX\\d+$',row['experiment_accession']):\n",
    "                counter+=1\n",
    "                # print(index, row.Experiment, row.experiment_accession)\n",
    "                dfsra_dfinfo_merge_dfena_nodupl.at[index,'Experiment'] = row.experiment_accession\n",
    "                # dfsra_dfinfo_merge_dfena_nodupl['Experiment'] = dfsra_dfinfo_merge_dfena_nodupl['Experiment'].replace(row.Experiment, row.experiment_accession)\n",
    "                \n",
    "            else:\n",
    "                print(row.experiment_accession)\n"
   ]
  },
  {
   "cell_type": "code",
   "execution_count": 7,
   "id": "2abf2ff8",
   "metadata": {},
   "outputs": [],
   "source": [
    "dfsra_dfinfo_dfena_nodupl_merge_dfjose =  pd.merge(dfsra_dfinfo_merge_dfena_nodupl, dfjose, how='left', on='Experiment')\n",
    "dfweb.rename(columns={'Unnamed: 0':'BioProject','0':'Project Tittle','1':'Project Description','2':'Project Biblio'}, inplace = True)\n",
    "dfsra_dfinfo_dfena_nodupl_dfjose_merge_dfweb =  pd.merge(dfsra_dfinfo_dfena_nodupl_merge_dfjose, dfweb, how='outer', on='BioProject')\n"
   ]
  },
  {
   "cell_type": "code",
   "execution_count": 8,
   "id": "c333298a",
   "metadata": {},
   "outputs": [
    {
     "data": {
      "text/plain": [
       "94235"
      ]
     },
     "execution_count": 8,
     "metadata": {},
     "output_type": "execute_result"
    }
   ],
   "source": [
    "len(dfsra_dfinfo_dfena_nodupl_merge_dfjose)"
   ]
  },
  {
   "cell_type": "code",
   "execution_count": 9,
   "id": "72944e35",
   "metadata": {},
   "outputs": [
    {
     "name": "stdout",
     "output_type": "stream",
     "text": [
      "(94235, 113)\n",
      "(94235, 112)\n"
     ]
    }
   ],
   "source": [
    "import numpy as np\n",
    "count=0\n",
    "count2=0\n",
    "for col in list(dfsra_dfinfo_dfena_nodupl_merge_dfjose.columns):\n",
    "    if '_x' in col:\n",
    "        count2+=1\n",
    "        col = col[:-2]\n",
    "        removecol = True\n",
    "        comparison_column = np.where(dfsra_dfinfo_dfena_nodupl_merge_dfjose[f\"{col}_x\"] == dfsra_dfinfo_dfena_nodupl_merge_dfjose[f\"{col}_y\"], True, False)\n",
    "        # for val in comparison_column:\n",
    "        #     if val != True:\n",
    "        #         removecol = False \n",
    "        if removecol:\n",
    "            count+=1\n",
    "            dfsra_dfinfo_dfena_nodupl_merge_dfjose.drop(columns=[f\"{col}_y\"],inplace=True)\n",
    "            dfsra_dfinfo_dfena_nodupl_merge_dfjose.rename(columns={f\"{col}_x\": f\"{col}\"},inplace=True)\n",
    "            print(dfsra_dfinfo_dfena_nodupl_merge_dfjose.shape)\n",
    "        else:\n",
    "            testdf = dfsra_dfinfo_dfena_nodupl_merge_dfjose\n",
    "            testdf['compa'] = comparison_column\n",
    "            testdf = testdf.loc[testdf['compa'] == False]\n",
    "            print(testdf[[f\"{col}_x\" ,f\"{col}_y\", \"compa\"]])\n",
    "                \n",
    "            print(f'dfsra_dfinfo_dfena_nodupl_merge_dfjose.drop(columns=[\"{col}_y\"])')\n",
    "            print(f'dfsra_dfinfo_dfena_nodupl_merge_dfjose.rename(columns=[\"{col}_y\": \"{col}\"])')\n",
    "\n"
   ]
  },
  {
   "cell_type": "code",
   "execution_count": 13,
   "id": "ddd3975a",
   "metadata": {},
   "outputs": [],
   "source": [
    "dfsra_dfinfo_dfena_nodupl_merge_dfjose = dfsra_dfinfo_dfena_nodupl_merge_dfjose.drop(dfsra_dfinfo_dfena_nodupl_merge_dfjose[(dfsra_dfinfo_dfena_nodupl_merge_dfjose.LibrarySelection == 'MNase')|(dfsra_dfinfo_dfena_nodupl_merge_dfjose.LibrarySelection == 'Restriction Digest')|(dfsra_dfinfo_dfena_nodupl_merge_dfjose.LibrarySelection == 'padlock probes capture metho')].index)\n",
    "dfsra_dfinfo_dfena_nodupl_merge_dfjose = dfsra_dfinfo_dfena_nodupl_merge_dfjose.drop(dfsra_dfinfo_dfena_nodupl_merge_dfjose[(dfsra_dfinfo_dfena_nodupl_merge_dfjose.LibrarySource == 'GENOMIC')|(dfsra_dfinfo_dfena_nodupl_merge_dfjose.LibrarySource == 'METAGENOMIC')|(dfsra_dfinfo_dfena_nodupl_merge_dfjose.LibrarySource == 'TRANSCRIPTOMIC SINGLE CELL')|(dfsra_dfinfo_dfena_nodupl_merge_dfjose.LibrarySource == 'METATRANSCRIPTOMIC')|(dfsra_dfinfo_dfena_nodupl_merge_dfjose.LibrarySource == 'SYNTHETIC')|(dfsra_dfinfo_dfena_nodupl_merge_dfjose.LibrarySource == 'VIRAL RNA')].index)\n",
    "dfsra_dfinfo_dfena_nodupl_merge_dfjose = dfsra_dfinfo_dfena_nodupl_merge_dfjose.drop(dfsra_dfinfo_dfena_nodupl_merge_dfjose[(dfsra_dfinfo_dfena_nodupl_merge_dfjose.Platform == 'LS454')|(dfsra_dfinfo_dfena_nodupl_merge_dfjose.Platform == 'OXFORD_NANOPORE')|(dfsra_dfinfo_dfena_nodupl_merge_dfjose.Platform == 'HELICOS')|(dfsra_dfinfo_dfena_nodupl_merge_dfjose.Platform == 'PACBIO_SMRT')].index)\n",
    "dfsra_dfinfo_dfena_nodupl_merge_dfjose = dfsra_dfinfo_dfena_nodupl_merge_dfjose.drop(dfsra_dfinfo_dfena_nodupl_merge_dfjose[(dfsra_dfinfo_dfena_nodupl_merge_dfjose.Model == 'PacBio RS')|(dfsra_dfinfo_dfena_nodupl_merge_dfjose.Model == 'Helicos HeliScope')|(dfsra_dfinfo_dfena_nodupl_merge_dfjose.Model == 'Illumina HiSeq X')|(dfsra_dfinfo_dfena_nodupl_merge_dfjose.Model == 'HiSeq X Five')|(dfsra_dfinfo_dfena_nodupl_merge_dfjose.Model == 'Illumina iSeq 100')|(dfsra_dfinfo_dfena_nodupl_merge_dfjose.Model == 'NextSeq 2000')|(dfsra_dfinfo_dfena_nodupl_merge_dfjose.Model == 'DNBSEQ-T7')|(dfsra_dfinfo_dfena_nodupl_merge_dfjose.Model == 'GridION')|(dfsra_dfinfo_dfena_nodupl_merge_dfjose.Model == 'PromethION')|(dfsra_dfinfo_dfena_nodupl_merge_dfjose.Model == 'Sequel II')|(dfsra_dfinfo_dfena_nodupl_merge_dfjose.Model == 'NextSeq 1000')|(dfsra_dfinfo_dfena_nodupl_merge_dfjose.Model == 'DNBSEQ-G400')|(dfsra_dfinfo_dfena_nodupl_merge_dfjose.Model == '454 GS FLX+')|(dfsra_dfinfo_dfena_nodupl_merge_dfjose.Model == 'MGISEQ-2000RS')|(dfsra_dfinfo_dfena_nodupl_merge_dfjose.Model == 'PacBio RS II')|(dfsra_dfinfo_dfena_nodupl_merge_dfjose.Model == 'Sequel')|(dfsra_dfinfo_dfena_nodupl_merge_dfjose.Model == '454 GS')|(dfsra_dfinfo_dfena_nodupl_merge_dfjose.Model == '454 GS FLX Titanium')|(dfsra_dfinfo_dfena_nodupl_merge_dfjose.Model == 'MinION')].index)\n"
   ]
  },
  {
   "cell_type": "code",
   "execution_count": null,
   "id": "e9564af2",
   "metadata": {},
   "outputs": [],
   "source": [
    "dfFINAL=dfsra_dfjose_dfinfo_dfena_merge_dfweb.reindex(columns=['Run','Experiment','Sample','BioSample','SRAStudy','BioProject','Submission',\n",
    "                                                                 'run_alias','experiment_alias','sample_alias','ScientificName',\n",
    "                                                                 'experiment_title','sample_title','study_title','description','sample_description',\n",
    "                                                                 'Project Tittle','Project Description','Project Biblio',\n",
    "                                                                 'LibraryStrategy','LibrarySelection','LibrarySource','LibraryLayout','Platform','Model'])"
   ]
  }
 ],
 "metadata": {
  "kernelspec": {
   "display_name": "mprnaseq",
   "language": "python",
   "name": "python3"
  },
  "language_info": {
   "codemirror_mode": {
    "name": "ipython",
    "version": 3
   },
   "file_extension": ".py",
   "mimetype": "text/x-python",
   "name": "python",
   "nbconvert_exporter": "python",
   "pygments_lexer": "ipython3",
   "version": "3.7.12"
  },
  "vscode": {
   "interpreter": {
    "hash": "dc39c85560ff572bf087bef01ce41b962deced2bf96673ed1817f6517dedf595"
   }
  }
 },
 "nbformat": 4,
 "nbformat_minor": 5
}
